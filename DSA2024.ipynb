{
  "nbformat": 4,
  "nbformat_minor": 0,
  "metadata": {
    "colab": {
      "provenance": []
    },
    "kernelspec": {
      "name": "python3",
      "display_name": "Python 3"
    },
    "language_info": {
      "name": "python"
    }
  },
  "cells": [
    {
      "cell_type": "markdown",
      "source": [
        "Question 1: write a function isValid(s) that takes as argument a string s containing a sequence of parenthesis '(', ')', '{', '}', '[' and ']', and  determines if the input is valid. A input string is valid if for every open parenthensis there is a close one and parenthesis is well-formed. e.g  \"(){}[]\" is valid."
      ],
      "metadata": {
        "id": "cxEd3gMfmA_F"
      }
    },
    {
      "cell_type": "code",
      "execution_count": null,
      "metadata": {
        "id": "T0EhizFdl9oN"
      },
      "outputs": [],
      "source": [
        "def isValid(s: str) -> bool:\n",
        "    # Dictionary to hold the mappings of closing to opening brackets\n",
        "    bracket_map = {')': '(', '}': '{', ']': '['}\n",
        "    # Stack to hold the opening brackets\n",
        "    stack = []\n",
        "\n",
        "    for char in s:\n",
        "        if char in bracket_map:\n",
        "            # Pop the top element from the stack if it's not empty, otherwise assign a dummy value\n",
        "            top_element = stack.pop() if stack else '#'\n",
        "            # Check if the popped element is the corresponding opening bracket\n",
        "            if bracket_map[char] != top_element:\n",
        "                return False\n",
        "        else:\n",
        "            # Push the opening bracket onto the stack\n",
        "            stack.append(char)\n",
        "\n",
        "    # If the stack is empty, all the brackets were matched correctly\n",
        "    return not stack\n",
        "\n",
        "# Test cases\n",
        "print(isValid(\"()\"))       # True\n",
        "print(isValid(\"()[]{}\"))   # True\n",
        "print(isValid(\"(]\"))       # False\n",
        "print(isValid(\"([)]\"))     # False\n",
        "print(isValid(\"{[]}\"))     # True"
      ]
    },
    {
      "cell_type": "markdown",
      "source": [
        "Mapping Brackets: The bracket_map dictionary maps each closing bracket to its corresponding opening bracket.\n",
        "Using a Stack: We use a list as a stack to keep track of opening brackets.\n",
        "Iterating Over the String: For each character in the string:\n",
        "If the character is a closing bracket, we check the top of the stack. If the stack is empty or the top of the stack does not match the corresponding opening bracket, the string is invalid.\n",
        "If the character is an opening bracket, we push it onto the stack.\n",
        "Final Check: After processing all characters, if the stack is empty, all opening brackets were matched correctly with closing brackets, so the string is valid. If not, the string is invalid"
      ],
      "metadata": {
        "id": "5LWaOdtuocoJ"
      }
    },
    {
      "cell_type": "markdown",
      "source": [
        "Question 2: Given a paragraph as a string, write a function that return the number of character with odd frequencies. E.g The paragraph ``DSA 2024 Nyeri`` has *10* characters with odd frequencies. i.e the entire frequency count is given as {' ': 2, '2': 2, 'D': 1, 'S': 1, 'A': 1, '0': 1, '4': 1, 'N': 1, 'y': 1, 'e': 1, 'r': 1, 'i': 1}) and there are *10* characters with odd frequences. So the function should return *10*."
      ],
      "metadata": {
        "id": "e_rlvpbXmIiv"
      }
    },
    {
      "cell_type": "code",
      "source": [
        "from collections import Counter\n",
        "\n",
        "def count_odd_frequencies(paragraph: str) -> int:\n",
        "    # Count the frequency of each character in the paragraph\n",
        "    frequency_count = Counter(paragraph)\n",
        "\n",
        "    # Initialize the count of characters with odd frequencies\n",
        "    odd_count = 0\n",
        "\n",
        "    # Iterate through the frequency count\n",
        "    for count in frequency_count.values():\n",
        "        if count % 2 == 1:\n",
        "            odd_count += 1\n",
        "\n",
        "    return odd_count\n",
        "\n",
        "# Test case\n",
        "paragraph = \"DSA 2024 Nyeri\"\n",
        "print(count_odd_frequencies(paragraph))  # Output: 10"
      ],
      "metadata": {
        "id": "A9JgzEGXmQ0p"
      },
      "execution_count": null,
      "outputs": []
    },
    {
      "cell_type": "markdown",
      "source": [
        "Counting Frequencies: Counter(paragraph) creates a dictionary where the keys are characters and the values are their respective frequencies in the paragraph.\n",
        "Counting Odd Frequencies: We initialize a variable odd_count to zero. We then iterate through the values of the frequency dictionary, and for each value, we check if it is odd (count % 2 == 1). If it is odd, we increment the odd_count.\n",
        "Returning the Result: Finally, we return the odd_count.\n",
        "This function accurately counts the number of characters with odd frequencies in the given paragraph."
      ],
      "metadata": {
        "id": "9ZjUNKyooigV"
      }
    },
    {
      "cell_type": "markdown",
      "source": [
        "Question 3: Write an infinite generator function odd_squares_sum that yields the sum of square of odd numbers. e.g $1^2 + 3^2 + 5^2 + ...$ up to a ``limit``"
      ],
      "metadata": {
        "id": "6v115oOqmR5p"
      }
    },
    {
      "cell_type": "code",
      "source": [
        "def odd_squares_sum():\n",
        "    odd_number = 1\n",
        "    current_sum = 0\n",
        "\n",
        "    while True:\n",
        "        current_sum += odd_number ** 2\n",
        "        yield current_sum\n",
        "        odd_number += 2\n",
        "\n",
        "# Example usage:\n",
        "gen = odd_squares_sum()\n",
        "\n",
        "# To get the sum of the first few terms:\n",
        "for _ in range(10):\n",
        "    print(next(gen))"
      ],
      "metadata": {
        "id": "1BhGT9LPmaD9"
      },
      "execution_count": null,
      "outputs": []
    },
    {
      "cell_type": "markdown",
      "source": [
        "Initialization:\n",
        "\n",
        "odd_number starts at 1, which is the first odd number.\n",
        "current_sum is initialized to 0 to keep track of the cumulative sum of squares of odd numbers.\n",
        "Infinite Loop:\n",
        "\n",
        "Inside the loop, the square of the current odd number is added to current_sum.\n",
        "The current cumulative sum (current_sum) is yielded.\n",
        "The odd_number is then incremented by 2 to get the next odd number.\n",
        "Usage:\n",
        "\n",
        "When you create an instance of the generator (gen = odd_squares_sum()), you can call next(gen) to get the next value in the series. Each call to next(gen) will compute and yield the sum of squares of the odd numbers up to that point.\n",
        "This generator will continue indefinitely, yielding the cumulative sum of the squares of odd numbers. If you want to stop at a specific limit, you can modify the generator or use a loop with a condition to break out when a limit is reached"
      ],
      "metadata": {
        "id": "_1VTck2yond1"
      }
    },
    {
      "cell_type": "markdown",
      "source": [
        "Question 4: Using the odd_squares_sum generator defined above, create a list of sum of squares up to a limit of $20$ and store the results in a numpy.array variable called oddSumList"
      ],
      "metadata": {
        "id": "dAm1LgBOmacE"
      }
    },
    {
      "cell_type": "code",
      "source": [
        "import numpy as np\n",
        "\n",
        "def odd_squares_sum():\n",
        "    odd_number = 1\n",
        "    current_sum = 0\n",
        "\n",
        "    while True:\n",
        "        current_sum += odd_number ** 2\n",
        "        yield current_sum\n",
        "        odd_number += 2\n",
        "\n",
        "# Initialize the generator\n",
        "gen = odd_squares_sum()\n",
        "\n",
        "# Create a list to store the sum of squares of odd numbers up to the 20th term\n",
        "odd_sum_list = [next(gen) for _ in range(20)]\n",
        "\n",
        "# Convert the list to a numpy array\n",
        "oddSumList = np.array(odd_sum_list)\n",
        "\n",
        "# Print the numpy array\n",
        "print(oddSumList)"
      ],
      "metadata": {
        "id": "Z6x7jwqZmiRL"
      },
      "execution_count": null,
      "outputs": []
    },
    {
      "cell_type": "markdown",
      "source": [
        "Define the Generator: The odd_squares_sum function is defined as before.\n",
        "Initialize the Generator: We create an instance of the generator gen = odd_squares_sum().\n",
        "Generate the List: We use a list comprehension to call next(gen) 20 times, collecting the results in odd_sum_list.\n",
        "Convert to numpy Array: We convert the list odd_sum_list to a numpy array named oddSumList.\n",
        "Print the Array: Finally, we print the numpy array to verify the results.\n",
        "This code will create a numpy array oddSumList containing the sum of squares of the first 20 odd numbers."
      ],
      "metadata": {
        "id": "xo29e4P_oq0B"
      }
    },
    {
      "cell_type": "markdown",
      "source": [
        "Question 5: Compute the element-wise remainder of ``oddSumList`` when divided by $5$ and merge it with ``oddSumList``. The final output stored in the variable mergedList should be in the form of a list of tupples e.g ``[(1,1), (4,9), (0,25), ...]``"
      ],
      "metadata": {
        "id": "VMJDKVtAmiqk"
      }
    },
    {
      "cell_type": "code",
      "source": [
        "import numpy as np\n",
        "\n",
        "# Define the generator function\n",
        "def odd_squares_sum():\n",
        "    odd_number = 1\n",
        "    current_sum = 0\n",
        "\n",
        "    while True:\n",
        "        current_sum += odd_number ** 2\n",
        "        yield current_sum\n",
        "        odd_number += 2\n",
        "\n",
        "# Initialize the generator\n",
        "gen = odd_squares_sum()\n",
        "\n",
        "# Create a list to store the sum of squares of odd numbers up to the 20th term\n",
        "odd_sum_list = [next(gen) for _ in range(20)]\n",
        "\n",
        "# Convert the list to a numpy array\n",
        "oddSumList = np.array(odd_sum_list)\n",
        "\n",
        "# Compute the element-wise remainder of oddSumList when divided by 5\n",
        "remainders = oddSumList % 5\n",
        "\n",
        "# Merge the original oddSumList with the remainders into a list of tuples\n",
        "mergedList = list(zip(oddSumList, remainders))\n",
        "\n",
        "# Print the merged list\n",
        "print(mergedList)"
      ],
      "metadata": {
        "id": "PRzlpe0om0t1"
      },
      "execution_count": null,
      "outputs": []
    },
    {
      "cell_type": "markdown",
      "source": [
        "Define the Generator: The odd_squares_sum function is defined as before.\n",
        "Initialize the Generator: We create an instance of the generator gen = odd_squares_sum().\n",
        "Generate the List: We use a list comprehension to call next(gen) 20 times, collecting the results in odd_sum_list.\n",
        "Convert to numpy Array: We convert the list odd_sum_list to a numpy array named oddSumList.\n",
        "Compute Remainders: We use the modulus operator % to compute the element-wise remainder of oddSumList when divided by 5, storing the result in remainders.\n",
        "Merge into Tuples: We use zip to combine oddSumList and remainders into a list of tuples, storing the result in mergedList.\n",
        "Print the Merged List: Finally, we print mergedList to verify the results.\n",
        "The mergedList variable will contain tuples where the first element is the sum of squares and the second element is the remainder when divided by 5."
      ],
      "metadata": {
        "id": "iS-6gDXqpB9f"
      }
    },
    {
      "cell_type": "markdown",
      "source": [
        "Question 6:  Write a function greatest_common_divisor that takes two inputs a and b and returns the greatest common divisor of the two numbers. E.g. input (10, 15) would return 5"
      ],
      "metadata": {
        "id": "uVa_5NF-m1LF"
      }
    },
    {
      "cell_type": "code",
      "source": [
        "def greatest_common_divisor(a, b):\n",
        "    while b:\n",
        "        a, b = b, a % b\n",
        "    return a\n",
        "\n",
        "# Test cases\n",
        "print(greatest_common_divisor(10, 15))  # Output: 5\n",
        "print(greatest_common_divisor(54, 24))  # Output: 6\n",
        "print(greatest_common_divisor(48, 18))  # Output: 6\n",
        "print(greatest_common_divisor(101, 103))  # Output: 1"
      ],
      "metadata": {
        "id": "Yhhho3_Dm7kq"
      },
      "execution_count": null,
      "outputs": []
    },
    {
      "cell_type": "markdown",
      "source": [
        "Euclidean Algorithm:\n",
        "\n",
        "The algorithm repeatedly replaces the larger number by its remainder when divided by the smaller number until one of the numbers becomes zero. The non-zero number at this point is the GCD.\n",
        "For example, to find the GCD of a and b:\n",
        "Compute a % b.\n",
        "Replace a with b and b with a % b.\n",
        "Repeat the process until b becomes zero. The GCD is the current value of a.\n",
        "Function Definition:\n",
        "\n",
        "The function greatest_common_divisor takes two inputs, a and b.\n",
        "It uses a while loop to continue the process until b becomes zero.\n",
        "Inside the loop, it updates a and b using the Euclidean algorithm.\n",
        "Finally, it returns a as the GCD."
      ],
      "metadata": {
        "id": "Rb8KNSz5pJFv"
      }
    },
    {
      "cell_type": "markdown",
      "source": [
        "Question 7:  Write a function get_3_nearest that takes in a point of interest ``pt`` and a list of points ``ptlist``  and returns a list of 3 nearest points from the point of interest ``pt``. Assume the distance between any two point is defined by the L1-norm."
      ],
      "metadata": {
        "id": "ENhe6ertm79c"
      }
    },
    {
      "cell_type": "code",
      "source": [
        "def l1_norm(pt1, pt2):\n",
        "    return sum(abs(a - b) for a, b in zip(pt1, pt2))\n",
        "\n",
        "def get_3_nearest(pt, ptlist):\n",
        "    # Compute distances from pt to each point in ptlist\n",
        "    distances = [(point, l1_norm(pt, point)) for point in ptlist]\n",
        "\n",
        "    # Sort the points based on their distances\n",
        "    distances.sort(key=lambda x: x[1])\n",
        "\n",
        "    # Extract the three nearest points\n",
        "    nearest_points = [point for point, distance in distances[:3]]\n",
        "\n",
        "    return nearest_points\n",
        "\n",
        "# Example usage\n",
        "pt = (0, 0)\n",
        "ptlist = [(1, 2), (3, 4), (0, 1), (1, 1), (2, 2), (3, 3)]\n",
        "\n",
        "print(get_3_nearest(pt, ptlist))  # Output: [(0, 1), (1, 1), (1, 2)]"
      ],
      "metadata": {
        "id": "aO2L9s4BnApl"
      },
      "execution_count": null,
      "outputs": []
    },
    {
      "cell_type": "markdown",
      "source": [
        "L1-Norm Calculation:\n",
        "\n",
        "The l1_norm function calculates the Manhattan distance between two points pt1 and pt2.\n",
        "It does this by summing the absolute differences of their corresponding coordinates.\n",
        "Compute Distances:\n",
        "\n",
        "The get_3_nearest function takes a point pt and a list of points ptlist.\n",
        "It computes the distance from pt to each point in ptlist using the l1_norm function and stores the results in a list of tuples (point, distance).\n",
        "Sort Points by Distance:\n",
        "\n",
        "It sorts the list of tuples based on the distance (second element of each tuple).\n",
        "Extract Nearest Points:\n",
        "\n",
        "It extracts the first three points from the sorted list (the three nearest points) and returns them.\n",
        "This function efficiently finds and returns the three nearest points to a given point using the Manhattan distance."
      ],
      "metadata": {
        "id": "L7nCsvQopOtm"
      }
    },
    {
      "cell_type": "markdown",
      "source": [
        "Question 8:  Write a function diagonal_vector(M) that returns a numpy array of the list of absolute values of the main diagonal entries in the matrix $M$"
      ],
      "metadata": {
        "id": "c-0dPaIznBNi"
      }
    },
    {
      "cell_type": "code",
      "source": [
        "import numpy as np\n",
        "\n",
        "def diagonal_vector(M):\n",
        "    # Extract the main diagonal entries\n",
        "    diagonal_entries = np.diagonal(M)\n",
        "\n",
        "    # Compute the absolute values of the diagonal entries\n",
        "    abs_diagonal_entries = np.abs(diagonal_entries)\n",
        "\n",
        "    return abs_diagonal_entries\n",
        "\n",
        "# Example usage\n",
        "M = np.array([\n",
        "    [1, -2, 3],\n",
        "    [-4, 5, -6],\n",
        "    [7, -8, 9]\n",
        "])\n",
        "\n",
        "print(diagonal_vector(M))  # Output: [1 5 9]"
      ],
      "metadata": {
        "id": "HHhqC9iWnHb4"
      },
      "execution_count": null,
      "outputs": []
    },
    {
      "cell_type": "markdown",
      "source": [
        "np.diagonal(M) extracts the main diagonal entries of the matrix\n",
        "𝑀\n",
        "M.\n",
        "Compute the Absolute Values:\n",
        "\n",
        "np.abs(diagonal_entries) computes the absolute values of the extracted diagonal entries.\n",
        "Return the Result:\n",
        "\n",
        "The function returns the array of absolute values of the main diagonal entries.\n",
        "This implementation uses numpy's built-in functions to efficiently extract and process the diagonal entries of the matrix"
      ],
      "metadata": {
        "id": "o4Rm9noGpZPU"
      }
    },
    {
      "cell_type": "markdown",
      "source": [
        "Question 9:  Write a function flatten_reverse_lists that takes in a list of lists and outputs a reverse sorted list of elements of sublists of the input list (confusing right?) <br>\n",
        "Example: given flatten_reverse_lists([[2,13,44], [6,7]]) it should return [2,6,7,13,44]"
      ],
      "metadata": {
        "id": "AUk36fMZnHsc"
      }
    },
    {
      "cell_type": "code",
      "source": [
        "def flatten_reverse_lists(list_of_lists):\n",
        "    # Flatten the list of lists into a single list\n",
        "    flattened_list = [item for sublist in list_of_lists for item in sublist]\n",
        "\n",
        "    # Sort the flattened list in reverse order\n",
        "    sorted_list = sorted(flattened_list, reverse=True)\n",
        "\n",
        "    return sorted_list\n",
        "\n",
        "# Example usage\n",
        "print(flatten_reverse_lists([[2, 13, 44], [6, 7]]))  # Output: [44, 13, 7, 6, 2]"
      ],
      "metadata": {
        "id": "PvazrmpooLGC"
      },
      "execution_count": null,
      "outputs": []
    }
  ]
}