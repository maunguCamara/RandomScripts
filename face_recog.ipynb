{
 "cells": [
  {
   "cell_type": "code",
   "execution_count": 1,
   "id": "e9674a5a",
   "metadata": {
    "scrolled": true
   },
   "outputs": [],
   "source": [
    "#!pip install dlib\n",
    "#!pip install cmake\n",
    "#!pip install face_recognition\n",
    "\n",
    "\n"
   ]
  },
  {
   "cell_type": "markdown",
   "id": "9531a2b4",
   "metadata": {},
   "source": [
    "import the necessary libraries \n"
   ]
  },
  {
   "cell_type": "code",
   "execution_count": 2,
   "id": "ff95c1f9",
   "metadata": {
    "scrolled": true
   },
   "outputs": [],
   "source": [
    "import pandas as pd\n",
    "import cv2\n",
    "import urllib.request\n",
    "import numpy as np\n",
    "import os\n",
    "from datetime import datetime\n",
    "import face_recognition"
   ]
  },
  {
   "cell_type": "code",
   "execution_count": null,
   "id": "2575f865",
   "metadata": {},
   "outputs": [],
   "source": []
  },
  {
   "cell_type": "code",
   "execution_count": 3,
   "id": "c46e6fe7",
   "metadata": {},
   "outputs": [],
   "source": [
    "#path to images folder \n",
    "path = \"C:/Users/ADMIN/VSCodeProjects/EEE/cleared\"\n",
    "#url =  \"arduino serial monitor\""
   ]
  },
  {
   "cell_type": "code",
   "execution_count": 4,
   "id": "c9056573",
   "metadata": {
    "scrolled": true
   },
   "outputs": [],
   "source": [
    "#Create file attendance.csv, removes one if already exists\n",
    "if 'Attendace.csv' in os.listdir(os.path.join(os.getcwd(),path)):\n",
    "    print(\"there iss..\")\n",
    "    os.remove(\"Attendance.csv\")\n",
    "else:\n",
    "    df = pd.DataFrame(list())\n",
    "    df.to_csv(\"Attendance.csv\")\n"
   ]
  },
  {
   "cell_type": "code",
   "execution_count": 5,
   "id": "6f9dceb4",
   "metadata": {},
   "outputs": [
    {
     "name": "stdout",
     "output_type": "stream",
     "text": [
      "['amos.jpg', 'fadhili.jpg', 'john.jpg', 'mkamba.jpg']\n"
     ]
    }
   ],
   "source": [
    "\n",
    "images = []\n",
    "studentNames = []\n",
    "clearedStudents = os.listdir(path)\n",
    "print(clearedStudents)"
   ]
  },
  {
   "cell_type": "code",
   "execution_count": null,
   "id": "fe7845a0",
   "metadata": {},
   "outputs": [],
   "source": []
  },
  {
   "cell_type": "code",
   "execution_count": 6,
   "id": "606be4a3",
   "metadata": {},
   "outputs": [
    {
     "name": "stdout",
     "output_type": "stream",
     "text": [
      "['amos', 'fadhili', 'john', 'mkamba']\n"
     ]
    }
   ],
   "source": [
    "#Get student names\n",
    "for student in clearedStudents:\n",
    "    curImg = cv2.imread(f'{path}/{student}')\n",
    "    images.append(curImg)\n",
    "    studentNames.append(os.path.splitext(student)[0])\n",
    "print(studentNames)"
   ]
  },
  {
   "cell_type": "code",
   "execution_count": 7,
   "id": "5cea9d56",
   "metadata": {},
   "outputs": [],
   "source": [
    "#Find the encodings of the images \n",
    "def findEndcodings(images):\n",
    "    encodings = []\n",
    "    for img in images:\n",
    "        img = cv2.cvtColor(img, cv2.COLOR_BGR2RGB)\n",
    "        encode = face_recognition.face_encodings(img)[0]\n",
    "        encodings.append(encode)\n",
    "    return encodings"
   ]
  },
  {
   "cell_type": "code",
   "execution_count": 8,
   "id": "ae5545d1",
   "metadata": {},
   "outputs": [],
   "source": [
    "#Opens the attendance.csv file, appends to it with name and time of exam entry\n",
    "def authExam(name):\n",
    "    with open(\"Attendance.csv\", 'a+') as f:\n",
    "        for name, timestamp in authorizedStudents.items():\n",
    "            f.writelines(f'\\n{name}, {timestamp}')\n"
   ]
  },
  {
   "cell_type": "code",
   "execution_count": null,
   "id": "98a71019",
   "metadata": {},
   "outputs": [],
   "source": []
  },
  {
   "cell_type": "code",
   "execution_count": 9,
   "id": "ad6ffca5",
   "metadata": {},
   "outputs": [
    {
     "name": "stdout",
     "output_type": "stream",
     "text": [
      "Encoding Complete\n"
     ]
    }
   ],
   "source": [
    "encodeListKnown = findEndcodings(images)\n",
    "print('Encoding Complete')"
   ]
  },
  {
   "cell_type": "code",
   "execution_count": 10,
   "id": "6a2969f5",
   "metadata": {},
   "outputs": [],
   "source": [
    "#Initialize webcam\n",
    "cap = cv2.VideoCapture(0)"
   ]
  },
  {
   "cell_type": "code",
   "execution_count": 11,
   "id": "86f71a3c",
   "metadata": {},
   "outputs": [],
   "source": [
    "authorizedStudents = {}"
   ]
  },
  {
   "cell_type": "code",
   "execution_count": 12,
   "id": "0945ed4d",
   "metadata": {},
   "outputs": [
    {
     "name": "stdout",
     "output_type": "stream",
     "text": [
      "You do not appear in the exam list\n",
      "You do not appear in the exam list\n",
      "You do not appear in the exam list\n",
      "You do not appear in the exam list\n",
      "You do not appear in the exam list\n",
      "You do not appear in the exam list\n",
      "You do not appear in the exam list\n",
      "You do not appear in the exam list\n",
      "You do not appear in the exam list\n",
      "You do not appear in the exam list\n",
      "You do not appear in the exam list\n"
     ]
    }
   ],
   "source": [
    "#Match face on camera with face in folder, start the webcam, to terminate program press q\n",
    "while True:\n",
    "    ret, img = cap.read()\n",
    "    imgS = cv2.resize(img, (0, 0), None, 0.25, 0.25)\n",
    "    imgS = cv2.cvtColor(imgS, cv2.COLOR_BGR2RGB)\n",
    "\n",
    "    facesCurFrame = face_recognition.face_locations(imgS)\n",
    "    encodesCurFrame = face_recognition.face_encodings(imgS, facesCurFrame) \n",
    "\n",
    "    for encodeFace, faceLoc in zip(encodesCurFrame, facesCurFrame):\n",
    "        matches = face_recognition.compare_faces(encodeListKnown, encodeFace, tolerance=0.4)\n",
    "        faceDis = face_recognition.face_distance(encodeListKnown, encodeFace)\n",
    "        matchIndex = np.argmin(faceDis)\n",
    "        \n",
    "        if np.any(faceDis > 0.6) or not any(matches):\n",
    "            print(\"You do not appear in the exam list\")\n",
    "        else:\n",
    "            name = studentNames[matchIndex].upper()\n",
    "            if name in authorizedStudents:\n",
    "                print(f'{name} has already checked in.')\n",
    "            else:\n",
    "                print(f'{name} appears on the exam list')\n",
    "                authorizedStudents[name] = datetime.now().strftime('%H:%M:%S')\n",
    "        \n",
    "\n",
    "    cv2.imshow('Webcam', img)\n",
    "    if cv2.waitKey(1) & 0xFF == ord('q'):\n",
    "        break"
   ]
  },
  {
   "cell_type": "code",
   "execution_count": 13,
   "id": "b2387ed5",
   "metadata": {},
   "outputs": [
    {
     "data": {
      "text/plain": [
       "<function imread>"
      ]
     },
     "execution_count": 13,
     "metadata": {},
     "output_type": "execute_result"
    }
   ],
   "source": [
    "#Close the webcam\n",
    "cv2.destroyAllWindows()\n",
    "cv2.imread"
   ]
  },
  {
   "cell_type": "code",
   "execution_count": null,
   "id": "7f37cd1e",
   "metadata": {},
   "outputs": [],
   "source": []
  },
  {
   "cell_type": "code",
   "execution_count": null,
   "id": "23b3ecb0",
   "metadata": {},
   "outputs": [],
   "source": []
  }
 ],
 "metadata": {
  "kernelspec": {
   "display_name": "Python 3 (ipykernel)",
   "language": "python",
   "name": "python3"
  },
  "language_info": {
   "codemirror_mode": {
    "name": "ipython",
    "version": 3
   },
   "file_extension": ".py",
   "mimetype": "text/x-python",
   "name": "python",
   "nbconvert_exporter": "python",
   "pygments_lexer": "ipython3",
   "version": "3.10.9"
  }
 },
 "nbformat": 4,
 "nbformat_minor": 5
}
